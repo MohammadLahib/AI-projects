{
  "nbformat": 4,
  "nbformat_minor": 0,
  "metadata": {
    "colab": {
      "name": "Copy of 03_word_embeddings",
      "provenance": [],
      "collapsed_sections": [],
      "toc_visible": true,
      "include_colab_link": true
    },
    "kernelspec": {
      "name": "python3",
      "display_name": "Python 3"
    }
  },
  "cells": [
    {
      "cell_type": "markdown",
      "metadata": {
        "id": "view-in-github",
        "colab_type": "text"
      },
      "source": [
        "<a href=\"https://colab.research.google.com/github/moh2-lh/moh2-lh/blob/main/Copy_of_03_word_embeddings.ipynb\" target=\"_parent\"><img src=\"https://colab.research.google.com/assets/colab-badge.svg\" alt=\"Open In Colab\"/></a>"
      ]
    },
    {
      "cell_type": "markdown",
      "metadata": {
        "id": "tLRfLrVXtUTI"
      },
      "source": [
        "© 2021 Zaka AI, Inc. All Rights Reserved"
      ]
    },
    {
      "cell_type": "markdown",
      "metadata": {
        "id": "caLGnxM2Ib_T"
      },
      "source": [
        "# Word Embeddings\n",
        "**Objective:** The goal from this exercise is to explore the Word2Vec technique for word embeddings and introduce Stanford's GloVe embedding as well. The libraries we will be using are `Gensim` for Word Embeddings Word2Vec and GloVe, `matplotlib` for visualization and `Scikit-Learn` for Principle Component Analysis models which are used for reducing dimensionality."
      ]
    },
    {
      "cell_type": "markdown",
      "metadata": {
        "id": "dj1QPhssIfi8"
      },
      "source": [
        "## Learn Word2Vec Embedding using Gensim\n",
        "\n",
        "Word2Vec models require a lot of text, e.g. the entire Wikipedia corpus. However, we will demonstrate the principles using a small in-memory example of text.\n",
        "\n",
        "Each sentence must be tokenized (divided into words and prepared). The sentences could be text loaded into memory, or an iterator that progressively loads text, required for very large text corpora. \n",
        "\n",
        "There are many parameters on this constructor:\n",
        "\n",
        "*   **`size`**: (default 100) The number of dimensions of the embedding, e.g. the length of the dense vector to represent each token (word).\n",
        "*   **`window`**: (default 5) The maximum distance between a target word and words around the target word.\n",
        "*   **`min_count`**: (default 5) The minimum count of words to consider when training the model; words with an occurrence less than this count will be ignored.\n",
        "*   **`workers`**: (default 3) The number of threads to use while training.\n",
        "*   **`sg`**: (default 0 or CBOW) The training algorithm, either CBOW (0) or skip gram (1)."
      ]
    },
    {
      "cell_type": "markdown",
      "metadata": {
        "id": "k7pU1nY3LhkO"
      },
      "source": [
        "###Building and training a Word2Vec model"
      ]
    },
    {
      "cell_type": "code",
      "metadata": {
        "id": "bY9k0TquxeHp",
        "colab": {
          "base_uri": "https://localhost:8080/"
        },
        "outputId": "33dcb62e-f2f5-41ff-f91b-cfb04a0cf25e"
      },
      "source": [
        "from gensim.models import Word2Vec\n",
        "\n",
        "# define training data\n",
        "sentences = [['this', 'is', 'the', 'first', 'sentence', 'for', 'word2vec'],\n",
        "\t\t\t['this', 'is', 'the', 'second', 'sentence'],\n",
        "\t\t\t['yet', 'another', 'sentence'],\n",
        "\t\t\t['one', 'more', 'sentence'],\n",
        "\t\t\t['and', 'the', 'final', 'sentence']]\n",
        "\n",
        "# train model\n",
        "model = Word2Vec(sentences, min_count=1)\n",
        "\n",
        "# summarize the loaded model\n",
        "print(model)\n",
        "\n",
        "# summarize vocabulary\n",
        "words = list(model.wv.vocab)\n",
        "print(words)\n",
        "\n",
        "# access vector for one word\n",
        "print(model['sentence'])\n",
        "\n",
        "# save model\n",
        "model.save('model.bin')"
      ],
      "execution_count": 1,
      "outputs": [
        {
          "output_type": "stream",
          "name": "stdout",
          "text": [
            "Word2Vec(vocab=14, size=100, alpha=0.025)\n",
            "['this', 'is', 'the', 'first', 'sentence', 'for', 'word2vec', 'second', 'yet', 'another', 'one', 'more', 'and', 'final']\n",
            "[-3.6057429e-03 -3.5932746e-03 -3.1415201e-03 -2.8892180e-03\n",
            " -1.8397215e-03  5.6329975e-04  2.7347284e-03 -8.5455168e-04\n",
            "  4.6912589e-04 -2.4551798e-03 -2.0357042e-03 -8.6586823e-04\n",
            " -4.0509664e-03  3.1244874e-03 -2.5413213e-03 -2.2407600e-03\n",
            "  2.2241056e-03 -3.9630751e-03  3.2981918e-03 -1.9720409e-03\n",
            " -3.3030843e-03  1.6408283e-03  2.8585200e-03  4.4556377e-03\n",
            " -1.1513995e-03 -4.2428942e-03 -2.0596362e-03 -7.9779158e-04\n",
            "  3.6077683e-03 -4.4814241e-03  3.9642262e-03  2.1216597e-03\n",
            " -6.3861645e-04 -8.4799808e-04 -1.5049492e-03  3.4308000e-03\n",
            "  9.9491212e-04  3.3869280e-04  1.2937668e-03 -3.6061816e-03\n",
            " -4.7466308e-03 -3.3575918e-03 -3.8185897e-03 -3.2404184e-03\n",
            " -1.3238040e-03  4.5279227e-03 -1.5686634e-03  2.5994130e-03\n",
            "  4.7398349e-03  3.4409743e-03 -3.8529569e-03 -4.8408983e-03\n",
            " -3.6217859e-03 -1.7024493e-03 -1.1864408e-03 -7.4832345e-04\n",
            "  1.0315857e-03  2.2764036e-03 -3.9157416e-03  3.8448290e-04\n",
            "  7.2034984e-04 -4.1132667e-03 -1.6242461e-03 -6.1995761e-06\n",
            "  2.6872116e-03 -4.0420671e-03  2.4159888e-03 -4.8076240e-03\n",
            " -2.2086299e-03 -2.6574356e-03  3.4606003e-03  1.7870237e-03\n",
            " -4.6350155e-03  4.7651124e-03  2.5592360e-03  3.3941623e-04\n",
            " -3.3953902e-03 -3.0982550e-03  5.2222877e-04 -4.3002428e-03\n",
            " -1.8734239e-03  4.0885927e-03 -3.4279183e-03  2.6248512e-03\n",
            "  3.8484347e-03  2.2669155e-03 -1.3339443e-03 -1.4444545e-03\n",
            "  2.5139060e-03 -4.4473079e-05 -9.9109462e-04  4.7976216e-03\n",
            "  4.0827650e-05 -1.8832398e-03 -3.7953553e-03  3.9514774e-03\n",
            "  4.6589272e-03  3.9361715e-03 -4.8272870e-03 -4.2383955e-03]\n"
          ]
        },
        {
          "output_type": "stream",
          "name": "stderr",
          "text": [
            "/usr/local/lib/python3.7/dist-packages/ipykernel_launcher.py:21: DeprecationWarning: Call to deprecated `__getitem__` (Method will be removed in 4.0.0, use self.wv.__getitem__() instead).\n"
          ]
        }
      ]
    },
    {
      "cell_type": "code",
      "metadata": {
        "id": "IWjTGAuQC59K",
        "colab": {
          "base_uri": "https://localhost:8080/"
        },
        "outputId": "bf4dfdd8-badf-4c2b-e0de-d41b9abd7ca1"
      },
      "source": [
        "# let's load the model and test it\n",
        "\n",
        "# load model\n",
        "new_model = Word2Vec.load('model.bin')\n",
        "print(new_model['this', 'is'])"
      ],
      "execution_count": 2,
      "outputs": [
        {
          "output_type": "stream",
          "name": "stdout",
          "text": [
            "[[-2.3499220e-03 -4.5021945e-03  3.8969177e-03 -3.8024667e-03\n",
            "  -2.3956650e-03 -2.5359541e-03  1.3212321e-03  1.8501921e-03\n",
            "   3.9227889e-04  4.8033418e-03 -3.3900810e-03 -8.5428022e-05\n",
            "   4.5012590e-03 -1.7339834e-04  2.3742421e-03  2.1000300e-03\n",
            "  -2.6671304e-03  2.4610615e-04 -4.8310491e-03 -3.4135829e-03\n",
            "  -2.3055386e-03 -3.7201276e-04  3.4021325e-03 -1.4807446e-03\n",
            "   2.7687354e-03 -3.1841570e-03  9.9942822e-04 -1.2324424e-04\n",
            "   3.7435570e-03  2.6318054e-03 -6.9748255e-04 -4.8441133e-03\n",
            "  -3.3903886e-03  3.8406218e-03 -3.6792562e-03 -4.2913994e-04\n",
            "  -2.5790124e-03 -4.1649523e-04  2.2890342e-03  4.7113076e-03\n",
            "   2.4345871e-03  4.0103127e-03 -2.9239415e-03  3.0395028e-03\n",
            "  -4.1342978e-03  2.6120001e-03 -1.6039327e-03  3.7458870e-03\n",
            "  -2.5487633e-03  3.0641987e-03  3.3715528e-03 -2.5024090e-03\n",
            "  -3.9858827e-03  2.7416220e-03  5.9836183e-04  2.6322037e-05\n",
            "  -3.4781157e-03  4.2917256e-04  4.6438214e-04 -1.9280351e-03\n",
            "  -4.3335580e-03 -2.6638363e-03 -2.2680804e-03  3.7733971e-03\n",
            "   4.8334762e-03  4.6738763e-03 -4.8220167e-03  1.3226682e-03\n",
            "  -1.0414066e-03  3.2688754e-03  2.6867667e-03 -2.7230713e-03\n",
            "   4.0551363e-03 -1.7085175e-03 -2.8809521e-03 -3.9975285e-03\n",
            "  -3.1162789e-03  3.3283501e-03 -2.5298956e-03  3.0827271e-03\n",
            "   4.8015947e-03 -1.9885723e-03  3.7179817e-03 -4.9724062e-03\n",
            "  -2.2706469e-03 -6.6484959e-04 -4.7865687e-03 -2.1743102e-03\n",
            "   4.4742147e-03  2.4736123e-03  1.1990377e-04  4.9029379e-03\n",
            "  -2.1312535e-03  4.0967995e-03 -4.4508901e-04 -4.8670382e-03\n",
            "   1.7166061e-03  1.8515238e-03 -1.9332157e-03  2.6116511e-03]\n",
            " [-2.8041208e-03  4.9290750e-03  3.1606324e-03  1.0030855e-03\n",
            "  -1.2883983e-03  4.8935935e-03  9.0431556e-04  2.3970301e-03\n",
            "  -7.6193834e-04 -4.9491851e-03  3.8117317e-03  2.5147297e-03\n",
            "   6.7774463e-04  4.2605870e-03 -2.4242885e-03  1.2899300e-03\n",
            "   7.5036322e-04  4.4423533e-03 -4.7228388e-03 -7.8422792e-04\n",
            "   1.5690891e-04  4.0833419e-03  9.7325508e-05  3.1867560e-03\n",
            "  -4.6624811e-04 -3.5158556e-03 -2.9015895e-03 -1.1894358e-04\n",
            "   5.1079836e-04 -3.1890182e-03 -1.4579881e-03 -1.7527966e-06\n",
            "   2.0788172e-03 -1.2190002e-03 -3.4691168e-03 -3.6582751e-03\n",
            "   3.6229377e-03  1.8607824e-03 -2.3275199e-04 -2.9947408e-03\n",
            "   2.0343107e-03  4.7087669e-03 -1.2736077e-03 -2.9100876e-03\n",
            "   2.0549044e-03 -2.8824552e-03  2.3493327e-03 -3.2836073e-03\n",
            "   4.8590777e-03  3.2150405e-03 -1.0286483e-03 -8.3983126e-05\n",
            "  -3.4870866e-03 -5.3981366e-04  2.0820913e-03  3.9913040e-03\n",
            "   4.0830569e-03 -3.6307715e-03  1.1485759e-03 -3.3086559e-03\n",
            "  -8.6664857e-04 -3.1522971e-03 -2.9404295e-04 -2.0549344e-03\n",
            "   3.7473585e-03  4.7782189e-03  9.5630874e-04 -2.6315036e-03\n",
            "  -1.8497363e-03  2.2287917e-04  3.7721478e-05 -1.5805123e-03\n",
            "   3.3288996e-04 -2.6003437e-04 -4.1687232e-03 -1.0115042e-03\n",
            "  -4.3111048e-03 -1.3282317e-03  2.1932658e-03 -2.4870187e-03\n",
            "   2.4727422e-03  3.0222510e-03 -4.6866322e-03  4.3041208e-03\n",
            "  -1.4610233e-03 -9.5223449e-04 -2.8366692e-04 -1.3000774e-03\n",
            "  -2.0472330e-04 -3.9598430e-03 -2.3341416e-03 -1.3134904e-03\n",
            "   1.4747588e-03 -4.3192422e-03 -4.8014042e-03 -4.3551007e-04\n",
            "  -3.0830377e-03  2.2321958e-03 -4.0362519e-03  3.5828948e-03]]\n"
          ]
        },
        {
          "output_type": "stream",
          "name": "stderr",
          "text": [
            "/usr/local/lib/python3.7/dist-packages/ipykernel_launcher.py:5: DeprecationWarning: Call to deprecated `__getitem__` (Method will be removed in 4.0.0, use self.wv.__getitem__() instead).\n",
            "  \"\"\"\n"
          ]
        }
      ]
    },
    {
      "cell_type": "markdown",
      "metadata": {
        "id": "moU2ue2iCCGm"
      },
      "source": [
        "### Visualize Word Embedding\n",
        "\n",
        "After learning the word embedding for the text, it's nice to explore it with visualization. We can use classical projection methods to reduce the high-dimensional word vectors to two- dimensional plots and plot them on a graph. The visualizations can provide a qualitative diagnostic for our learned model."
      ]
    },
    {
      "cell_type": "code",
      "metadata": {
        "id": "QSr__Ji1Ilku",
        "colab": {
          "base_uri": "https://localhost:8080/",
          "height": 321
        },
        "outputId": "82c3d511-8ace-46c1-e27e-a05ac32692d8"
      },
      "source": [
        "from gensim.models import Word2Vec\n",
        "from sklearn.decomposition import PCA\n",
        "from matplotlib import pyplot\n",
        "\n",
        "# define training data\n",
        "sentences = [['this', 'is', 'the', 'first', 'sentence', 'for', 'word2vec'],\n",
        "\t\t\t['this', 'is', 'the', 'second', 'sentence'],\n",
        "\t\t\t['yet', 'another', 'sentence'],\n",
        "\t\t\t['one', 'more', 'sentence'],\n",
        "\t\t\t['and', 'the', 'final', 'sentence']]\n",
        "\n",
        "# train model\n",
        "model = Word2Vec(sentences, min_count=1)\n",
        "\n",
        "# fit a 2D PCA model to the vectors\n",
        "X = model[model.wv.vocab]\n",
        "pca = PCA(n_components=2) \t\t\t\t#reduce dimensionality to 2D\n",
        "result = pca.fit_transform(X) \t\t#2D model to plot\n",
        "\n",
        "# create a scatter plot of the projection\n",
        "# pull out the 2 dimensions as x and y\n",
        "pyplot.scatter(result[:, 0], result[:, 1])\n",
        "words = list(model.wv.vocab)\n",
        "\n",
        "# annotate the points on the graph with the words themselves\n",
        "for i, word in enumerate(words):\n",
        "\tpyplot.annotate(word, xy=(result[i, 0], result[i, 1]))\n",
        "pyplot.show()"
      ],
      "execution_count": 3,
      "outputs": [
        {
          "output_type": "stream",
          "name": "stderr",
          "text": [
            "/usr/local/lib/python3.7/dist-packages/ipykernel_launcher.py:16: DeprecationWarning: Call to deprecated `__getitem__` (Method will be removed in 4.0.0, use self.wv.__getitem__() instead).\n",
            "  app.launch_new_instance()\n"
          ]
        },
        {
          "output_type": "display_data",
          "data": {
            "image/png": "[encoded data removed]",
            "text/plain": [
              "<Figure size 432x288 with 1 Axes>"
            ]
          },
          "metadata": {
            "needs_background": "light"
          }
        }
      ]
    },
    {
      "cell_type": "markdown",
      "metadata": {
        "id": "zLxMShJHJQIs"
      },
      "source": [
        "## Google Word2Vec \n",
        "\n",
        "Instead of training your own word vectors (which requires a lot of RAM and compute power), you can simply use a pre-trained word embedding. Google has published a pre-trained Word2Vec model that was trained on Google news data (about 100 billion words). It contains 3 million words and phrases and was fit using 300-dimensional word vectors. It is a 1.53 Gigabyte file."
      ]
    },
    {
      "cell_type": "code",
      "metadata": {
        "id": "NLD7sHm1LX_U",
        "colab": {
          "base_uri": "https://localhost:8080/"
        },
        "outputId": "8d7a0c49-805e-4b2c-91e8-cefba2a4483f"
      },
      "source": [
        "# download Google's word embeddings\n",
        "!wget \"https://s3.amazonaws.com/dl4j-distribution/GoogleNews-vectors-negative300.bin.gz\" -O \"GoogleNews-vectors-negative300.bin.gz\" \n",
        "\n",
        "# unzip downloaded word embeddings\n",
        "!gunzip GoogleNews-vectors-negative300.bin.gz  \n",
        "\n",
        "# list files in current directoty\n",
        "!ls -lah  "
      ],
      "execution_count": 4,
      "outputs": [
        {
          "output_type": "stream",
          "name": "stdout",
          "text": [
            "--2021-09-02 15:04:40--  https://s3.amazonaws.com/dl4j-distribution/GoogleNews-vectors-negative300.bin.gz\n",
            "Resolving s3.amazonaws.com (s3.amazonaws.com)... 52.216.239.165\n",
            "Connecting to s3.amazonaws.com (s3.amazonaws.com)|52.216.239.165|:443... connected.\n",
            "HTTP request sent, awaiting response... 200 OK\n",
            "Length: 1647046227 (1.5G) [application/x-gzip]\n",
            "Saving to: ‘GoogleNews-vectors-negative300.bin.gz’\n",
            "\n",
            "GoogleNews-vectors- 100%[===================>]   1.53G  36.4MB/s    in 41s     \n",
            "\n",
            "2021-09-02 15:05:20 (38.7 MB/s) - ‘GoogleNews-vectors-negative300.bin.gz’ saved [1647046227/1647046227]\n",
            "\n",
            "total 3.4G\n",
            "drwxr-xr-x 1 root root 4.0K Sep  2 15:06 .\n",
            "drwxr-xr-x 1 root root 4.0K Sep  2 14:59 ..\n",
            "drwxr-xr-x 4 root root 4.0K Aug 25 13:35 .config\n",
            "-rw-r--r-- 1 root root 3.4G Mar  5  2015 GoogleNews-vectors-negative300.bin\n",
            "-rw-r--r-- 1 root root  22K Sep  2 15:02 model.bin\n",
            "drwxr-xr-x 1 root root 4.0K Aug 31 13:18 sample_data\n"
          ]
        }
      ]
    },
    {
      "cell_type": "code",
      "metadata": {
        "id": "2NpK-fo1JQUq"
      },
      "source": [
        "from gensim.models import KeyedVectors\n",
        "\n",
        "# load the google word2vec model\n",
        "filename = 'GoogleNews-vectors-negative300.bin'\n",
        "model = KeyedVectors.load_word2vec_format(filename, binary=True)"
      ],
      "execution_count": 5,
      "outputs": []
    },
    {
      "cell_type": "markdown",
      "metadata": {
        "id": "8Fl1ZQHJHGIN"
      },
      "source": [
        "#### Let's have fun"
      ]
    },
    {
      "cell_type": "code",
      "metadata": {
        "id": "t3kxqDMymKH_"
      },
      "source": [
        "# get word vector\n",
        "model['car']"
      ],
      "execution_count": null,
      "outputs": []
    },
    {
      "cell_type": "code",
      "metadata": {
        "id": "hAgKecjUmW_s"
      },
      "source": [
        "# get most similar words\n",
        "model.most_similar('yellow')"
      ],
      "execution_count": null,
      "outputs": []
    },
    {
      "cell_type": "code",
      "metadata": {
        "id": "bN2VuE5UmPUm"
      },
      "source": [
        "# queen = (king - man) + woman\n",
        "result = model.most_similar(positive=['woman', 'king'], negative=['man'], topn=1)\n",
        "print(result)"
      ],
      "execution_count": null,
      "outputs": []
    },
    {
      "cell_type": "code",
      "metadata": {
        "id": "QhmQmasBmi2x"
      },
      "source": [
        "# (france - paris) + spain = ?\n",
        "result = model.most_similar(positive=[\"paris\",\"spain\"], negative=[\"france\"], topn=1)\n",
        "print(result)"
      ],
      "execution_count": null,
      "outputs": []
    },
    {
      "cell_type": "code",
      "metadata": {
        "id": "w91o81Slm3aY"
      },
      "source": [
        "model.doesnt_match([\"red\", \"blue\", \"car\", \"orange\"])\n"
      ],
      "execution_count": null,
      "outputs": []
    },
    {
      "cell_type": "markdown",
      "metadata": {
        "id": "HR-cJcT-J9Xq"
      },
      "source": [
        "## Stanford’s GloVe Embedding\n",
        "\n",
        "Like Word2Vec, the GloVe researchers also provide pre-trained word vectors. Let's download the smallest GloVe pre-trained model from the GloVe website. It's a 822 Megabyte zip file with 4 different models (50, 100, 200 and 300-dimensional vectors) trained on Wikipedia data with 6 billion tokens and a 400,000 word vocabulary."
      ]
    },
    {
      "cell_type": "code",
      "metadata": {
        "id": "l9WwmofxIIQJ"
      },
      "source": [
        "# download \n",
        "!wget http://nlp.stanford.edu/data/glove.6B.zip \n",
        "\n",
        "# unzip downloaded word embeddings\n",
        "!unzip glove.6B.zip  \n",
        "\n",
        "# list files in current directoty\n",
        "!ls -lah  \n"
      ],
      "execution_count": null,
      "outputs": []
    },
    {
      "cell_type": "code",
      "metadata": {
        "id": "CsXwAaiwI_1P"
      },
      "source": [
        "from gensim.models import KeyedVectors\n",
        "from gensim.scripts.glove2word2vec import glove2word2vec\n",
        "\n",
        "# convert the 100-dimensional version of the glove model to word2vec format\n",
        "glove_input_file = 'glove.6B.100d.txt'\n",
        "word2vec_output_file = 'glove.6B.100d.txt.word2vec'\n",
        "glove2word2vec(glove_input_file, word2vec_output_file)\n",
        "\n",
        "# load the converted model\n",
        "filename = 'glove.6B.100d.txt.word2vec'\n",
        "model = KeyedVectors.load_word2vec_format(filename, binary=False)"
      ],
      "execution_count": null,
      "outputs": []
    },
    {
      "cell_type": "code",
      "metadata": {
        "id": "MrEe17hdJEqB"
      },
      "source": [
        "# calculate: (king - man) + woman = ?\n",
        "result = model.most_similar(positive=['woman', 'king'], negative=['man'], topn=1)\n",
        "print(result)"
      ],
      "execution_count": null,
      "outputs": []
    }
  ]
}