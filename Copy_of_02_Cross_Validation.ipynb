{
  "nbformat": 4,
  "nbformat_minor": 0,
  "metadata": {
    "colab": {
      "name": "Copy of 02_Cross_Validation",
      "provenance": [],
      "collapsed_sections": [],
      "toc_visible": true,
      "include_colab_link": true
    },
    "kernelspec": {
      "name": "python3",
      "display_name": "Python 3"
    }
  },
  "cells": [
    {
      "cell_type": "markdown",
      "metadata": {
        "id": "view-in-github",
        "colab_type": "text"
      },
      "source": [
        "<a href=\"https://colab.research.google.com/github/moh2-lh/moh2-lh/blob/main/Copy_of_02_Cross_Validation.ipynb\" target=\"_parent\"><img src=\"https://colab.research.google.com/assets/colab-badge.svg\" alt=\"Open In Colab\"/></a>"
      ]
    },
    {
      "cell_type": "markdown",
      "metadata": {
        "id": "ZvxLBl0ltkP0"
      },
      "source": [
        "© 2021 Zaka AI, Inc. All Rights Reserved"
      ]
    },
    {
      "cell_type": "markdown",
      "metadata": {
        "id": "H8g4bvm9KoAz"
      },
      "source": [
        "#Cross Validation\n",
        "\n",
        "**Objective**: The goal of this notebook is to learn how to evaluate the performance of a trained neural network using cross validation. Cross validation splits the dataset into K-folds or partitions and repeats the train test procedure on them where one fold is chosen for testing and the rest for training.\n",
        "\n",
        "We will be cross validating our model that had been trained on the pima dataset of the previous notebook using both manual and automatic approaches."
      ]
    },
    {
      "cell_type": "code",
      "metadata": {
        "id": "AvjCOUom2FWS",
        "colab": {
          "base_uri": "https://localhost:8080/"
        },
        "outputId": "e0310e6c-48f3-4c8e-8a43-1b43af6a6c0e"
      },
      "source": [
        "# clone git repo\n",
        "!git clone https://github.com/zaka-ai/intro2dl.git\n",
        "\n",
        "# change directory\n",
        "%cd intro2dl/data/"
      ],
      "execution_count": 7,
      "outputs": [
        {
          "output_type": "stream",
          "text": [
            "Cloning into 'intro2dl'...\n",
            "remote: Enumerating objects: 16, done.\u001b[K\n",
            "remote: Counting objects: 100% (16/16), done.\u001b[K\n",
            "remote: Compressing objects: 100% (15/15), done.\u001b[K\n",
            "remote: Total 16 (delta 1), reused 7 (delta 0), pack-reused 0\u001b[K\n",
            "Unpacking objects: 100% (16/16), done.\n",
            "/content/intro2dl/data/intro2dl/data/intro2dl/data\n"
          ],
          "name": "stdout"
        }
      ]
    },
    {
      "cell_type": "markdown",
      "metadata": {
        "id": "fLdPnJC8LktU"
      },
      "source": [
        "## Manual Cross Validation"
      ]
    },
    {
      "cell_type": "markdown",
      "metadata": {
        "id": "AyTk6XmY9un8"
      },
      "source": [
        "### 1. Load data & split variables\n",
        "The dataset is the same as the previous notebook. It has eight features and one output as result of diabetes onset."
      ]
    },
    {
      "cell_type": "code",
      "metadata": {
        "id": "fFPNlSyP9wmm"
      },
      "source": [
        "# Pima Indians Dataset with 10-fold cross validation\n",
        "import numpy\n",
        "\n",
        "# load pima indians dataset\n",
        "dataset = numpy.loadtxt(\"pima-indians-diabetes.csv\", delimiter=\",\")\n",
        "\n",
        "# split into input (X) and output (Y) variables\n",
        "X = dataset[:,0:8]\n",
        "Y = dataset[:,8]"
      ],
      "execution_count": 8,
      "outputs": []
    },
    {
      "cell_type": "markdown",
      "metadata": {
        "id": "pRyDDxloEoKj"
      },
      "source": [
        "### 2. Define train function\n",
        "\n",
        "Define a `train_model` function that takes `x_train`, `y_train`, `x_test` and `y_test`  as input and does the following:\n",
        "\n",
        "1.    Create a model\n",
        "2.    Compile the model\n",
        "3.    Fit the model on `x_train` and `y_train`\n",
        "4.    Evaluate the model on `x_test` and `y_test`\n",
        "5.    Print & return accuracy"
      ]
    },
    {
      "cell_type": "code",
      "metadata": {
        "id": "gdl1QbyXEzNy"
      },
      "source": [
        "from tensorflow.keras.models import Sequential\n",
        "from tensorflow.keras.layers import Dense\n",
        "\n",
        "def train_model(x_train, y_train, x_test, y_test):\n",
        "  # FILL BLANKS\n",
        "  # create model\n",
        "  model = Sequential()\n",
        "  model.add(Dense(12, input_dim=8, activation='relu'))\n",
        "  model.add(Dense(10, activation='relu'))\n",
        "  model.add(Dense(1 , activation='sigmoid'))\n",
        "\n",
        "\t# Compile model\n",
        "  model.compile(optimizer='sgd', loss= 'binary_crossentropy', metrics=['accuracy']) \n",
        "\n",
        "  # Fit the model\n",
        "\n",
        "  model.fit(x_train, y_train, validation_data=(x_test, y_test), epochs= 10 , batch_size= 10, verbose=0)\n",
        "\n",
        "\t\n",
        "  # evaluate the model\n",
        "\n",
        "  scores = model.evaluate(x_test, y_test, verbose=0)\n",
        "\n",
        "\n",
        "  print(\"%s: %.2f%%\" % (model.metrics_names[1], scores[1]*100))\n",
        "  \n",
        "  return scores[1] * 100"
      ],
      "execution_count": 21,
      "outputs": []
    },
    {
      "cell_type": "markdown",
      "metadata": {
        "id": "GcSS9tAmFopI"
      },
      "source": [
        "### 3. Put everything together\n",
        "\n",
        "Write the code that will split the dataset into 10 different folds, loop over them and train the models."
      ]
    },
    {
      "cell_type": "code",
      "metadata": {
        "id": "hGKXLJLdFrPW",
        "colab": {
          "base_uri": "https://localhost:8080/"
        },
        "outputId": "a8719d87-1061-4c1e-dde4-66ceed1d664a"
      },
      "source": [
        "from sklearn.model_selection import StratifiedKFold\n",
        "\n",
        "# define 10-fold cross validation test harness\n",
        "kfold = StratifiedKFold(n_splits=10, shuffle=True, random_state=12)\n",
        "cvscores = []\n",
        "\n",
        "for train, test in kfold.split(X, Y):\n",
        "\taccuracy = train_model(X[train], Y[train], X[test], Y[test])\n",
        "\tcvscores.append(accuracy)\n",
        "\n",
        "\n",
        "print(\"%.2f%% (+/- %.2f%%)\" % (numpy.mean(cvscores), numpy.std(cvscores)))\n",
        "\n"
      ],
      "execution_count": 23,
      "outputs": [
        {
          "output_type": "stream",
          "text": [
            "accuracy: 64.94%\n",
            "accuracy: 64.94%\n",
            "accuracy: 62.34%\n",
            "accuracy: 74.03%\n",
            "accuracy: 64.94%\n",
            "accuracy: 64.94%\n",
            "accuracy: 64.94%\n",
            "accuracy: 61.04%\n",
            "accuracy: 65.79%\n",
            "accuracy: 65.79%\n",
            "65.37% (+/- 3.23%)\n"
          ],
          "name": "stdout"
        }
      ]
    },
    {
      "cell_type": "markdown",
      "metadata": {
        "id": "0eBINp7ZYHgF"
      },
      "source": [
        "## Automatic Cross Validation\n",
        "### Scikit-learn & Keras\n",
        "\n",
        "The Keras library provides a convenient wrapper for deep learning models to be used as classification or regression estimators in scikit-learn.\n",
        "\n",
        "\n",
        "\n",
        "*   KerasClassifier\n",
        "*   KerasRegressor\n",
        "\n"
      ]
    },
    {
      "cell_type": "code",
      "metadata": {
        "id": "9-VXvxqDYJNA",
        "colab": {
          "base_uri": "https://localhost:8080/"
        },
        "outputId": "309a0cd1-64f5-48e6-9eb4-6fe66b0e91ac"
      },
      "source": [
        "from tensorflow.keras.models import Sequential\n",
        "from tensorflow.keras.layers import Dense\n",
        "from tensorflow.keras.wrappers.scikit_learn import KerasClassifier\n",
        "from sklearn.model_selection import StratifiedKFold\n",
        "from sklearn.model_selection import cross_val_score\n",
        "import numpy\n",
        "\n",
        "# Function to create & compile model, required for KerasClassifier\n",
        "def create_model():\n",
        "    model = Sequential()\n",
        "    model.add(Dense(12, input_dim=8, activation='relu'))\n",
        "    model.add(Dense(8, activation='relu'))\n",
        "    model.add(Dense(1, activation='sigmoid'))\n",
        "  \n",
        "    # Compile model\n",
        "    model.compile(loss='binary_crossentropy', optimizer='adam', metrics=['accuracy'])\n",
        "  \n",
        "    return model\n",
        "\n",
        "# load pima indians dataset\n",
        "dataset = numpy.loadtxt(\"pima-indians-diabetes.csv\", delimiter=\",\")\n",
        "\n",
        "# split into input (X) and output (Y) variables\n",
        "X = dataset[:,0:8]\n",
        "Y = dataset[:,8]\n",
        "\n",
        "# create model\n",
        "model = KerasClassifier(build_fn=create_model, epochs=150, batch_size=10, verbose=0)\n",
        "\n",
        "# evaluate using 10-fold cross validation\n",
        "kfold = StratifiedKFold(n_splits=10, shuffle=True, random_state=12)\n",
        "results = cross_val_score(model, X, Y, cv=kfold)\n",
        "print(\"%.2f%%\" % (results.mean() * 100))"
      ],
      "execution_count": 24,
      "outputs": [
        {
          "output_type": "stream",
          "text": [
            "71.23%\n"
          ],
          "name": "stdout"
        }
      ]
    }
  ]
}